{
 "cells": [
  {
   "cell_type": "code",
   "execution_count": 12,
   "metadata": {
    "collapsed": false
   },
   "outputs": [],
   "source": [
    "import pandas as pd\n",
    "from datetime import datetime\n",
    "\n",
    "import matplotlib.pyplot as plt\n",
    "import matplotlib"
   ]
  },
  {
   "cell_type": "code",
   "execution_count": 13,
   "metadata": {
    "collapsed": false
   },
   "outputs": [],
   "source": [
    "ds = pd.read_csv('/home/me/Downloads/2018-06-20-trades-BTCUSD.csv') # загрузка исторических данных"
   ]
  },
  {
   "cell_type": "code",
   "execution_count": 14,
   "metadata": {
    "collapsed": false
   },
   "outputs": [],
   "source": [
    "ts = ds['Timestamp']                                    # создание списка с минутами из unixtime\n",
    "stmp = []    \n",
    "for i in ts:\n",
    "    stmp.append(str (datetime.fromtimestamp(i))[11:-3]) "
   ]
  },
  {
   "cell_type": "code",
   "execution_count": 16,
   "metadata": {
    "collapsed": false,
    "scrolled": true
   },
   "outputs": [],
   "source": [
    "ds = ds.drop(ds.index[20000:])   "
   ]
  },
  {
   "cell_type": "code",
   "execution_count": 18,
   "metadata": {
    "collapsed": true
   },
   "outputs": [],
   "source": [
    "s = pd.Series(stmp)\n",
    "ds['Ts'] = s            # добавить список с минутами к данным о сделках"
   ]
  },
  {
   "cell_type": "code",
   "execution_count": 19,
   "metadata": {
    "collapsed": true
   },
   "outputs": [],
   "source": [
    "uniq_stmp = list(set(stmp)) # оставить в единственном экземпляре метки времени\n",
    "uniq_stmp.sort()            # сортировать их"
   ]
  },
  {
   "cell_type": "code",
   "execution_count": 21,
   "metadata": {
    "collapsed": true
   },
   "outputs": [],
   "source": [
    "data = dict()\n",
    "for i in uniq_stmp:\n",
    "    sell = ds.loc[ds['Ts'] == i].loc[ds['Type'] == 'sell']['Amount'].sum()\n",
    "    buy = ds.loc[ds['Ts'] == i].loc[ds['Type'] == 'buy']['Amount'].sum()\n",
    "    data.update({i:(buy, sell)})     # создать словарь типа \"время: объем покупок,объем продаж\""
   ]
  },
  {
   "cell_type": "code",
   "execution_count": 23,
   "metadata": {
    "collapsed": true
   },
   "outputs": [],
   "source": [
    "dt = pd.DataFrame(data)    # создать датафрейм из словаря"
   ]
  },
  {
   "cell_type": "code",
   "execution_count": 30,
   "metadata": {
    "collapsed": false
   },
   "outputs": [
    {
     "data": {
      "image/png": "[encoded data removed]",
      "text/plain": [
       "<matplotlib.figure.Figure at 0x7fa6d7b5d6d8>"
      ]
     },
     "metadata": {},
     "output_type": "display_data"
    }
   ],
   "source": [
    "sell_volume = tuple(dt.iloc[1, 1000:1150]) # рассматриваемый отрезок времени - с 1000 по 1150 минуты(от начала суток)\n",
    "buy_volume = tuple(dt.iloc[0, 1000:1150])\n",
    "\n",
    "x = range(150) # количество баров\n",
    "\n",
    "p1 = plt.bar(x, sell_volume, color='r')\n",
    "p2 = plt.bar(x, buy_volume, bottom=sell_volume, color='g')\n",
    "plt.show()"
   ]
  }
 ],
 "metadata": {
  "anaconda-cloud": {},
  "kernelspec": {
   "display_name": "Python [default]",
   "language": "python",
   "name": "python3"
  },
  "language_info": {
   "codemirror_mode": {
    "name": "ipython",
    "version": 3
   },
   "file_extension": ".py",
   "mimetype": "text/x-python",
   "name": "python",
   "nbconvert_exporter": "python",
   "pygments_lexer": "ipython3",
   "version": "3.5.2"
  }
 },
 "nbformat": 4,
 "nbformat_minor": 2
}
