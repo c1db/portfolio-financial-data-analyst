{
 "cells": [
  {
   "cell_type": "code",
   "execution_count": 1,
   "metadata": {
    "collapsed": false
   },
   "outputs": [
    {
     "name": "stdout",
     "output_type": "stream",
     "text": [
      "/home/me/soft/other/python-bittrex-master/bittrex\n"
     ]
    }
   ],
   "source": [
    "# данный ноутбут отслеживает резкие изменения цены или объема"
   ]
  },
  {
   "cell_type": "code",
   "execution_count": null,
   "metadata": {
    "collapsed": true
   },
   "outputs": [],
   "source": [
    "cd /home/me/soft/other/python-bittrex-master/bittrex/"
   ]
  },
  {
   "cell_type": "code",
   "execution_count": 2,
   "metadata": {
    "collapsed": false
   },
   "outputs": [],
   "source": [
    "from bittrex import Bittrex\n",
    "import json\n",
    "import codecs\n",
    "import numpy as np\n",
    "import time"
   ]
  },
  {
   "cell_type": "code",
   "execution_count": 4,
   "metadata": {
    "collapsed": false
   },
   "outputs": [
    {
     "name": "stdout",
     "output_type": "stream",
     "text": [
      "2018-08-09T04:38:34.787\n",
      "max delta bid is 1.00157418339 BTC-TIX\n",
      "max delta ask is 1.00826446281 BTC-MFT\n",
      "max delta vol is 1.00357396621 BTC-UP\n",
      "2018-08-09T04:38:34.787\n",
      "max delta bid is 1.00474462741 ETH-REP\n",
      "max delta ask is 1.00694745983 BTC-MORE\n",
      "max delta vol is 1.00031733036 BTC-BTG\n"
     ]
    },
    {
     "ename": "KeyboardInterrupt",
     "evalue": "",
     "output_type": "error",
     "traceback": [
      "\u001b[0;31m---------------------------------------------------------------------------\u001b[0m",
      "\u001b[0;31mKeyboardInterrupt\u001b[0m                         Traceback (most recent call last)",
      "\u001b[0;32m<ipython-input-4-c0a57a77e74b>\u001b[0m in \u001b[0;36m<module>\u001b[0;34m()\u001b[0m\n\u001b[1;32m     34\u001b[0m         \u001b[0mvolums\u001b[0m \u001b[0;34m=\u001b[0m \u001b[0mnp\u001b[0m\u001b[0;34m.\u001b[0m\u001b[0mappend\u001b[0m\u001b[0;34m(\u001b[0m\u001b[0mvolums\u001b[0m\u001b[0;34m,\u001b[0m \u001b[0mi\u001b[0m\u001b[0;34m.\u001b[0m\u001b[0mget\u001b[0m\u001b[0;34m(\u001b[0m\u001b[0;34m'Volume'\u001b[0m\u001b[0;34m)\u001b[0m\u001b[0;34m)\u001b[0m\u001b[0;34m\u001b[0m\u001b[0m\n\u001b[1;32m     35\u001b[0m \u001b[0;34m\u001b[0m\u001b[0m\n\u001b[0;32m---> 36\u001b[0;31m     \u001b[0mtime\u001b[0m\u001b[0;34m.\u001b[0m\u001b[0msleep\u001b[0m\u001b[0;34m(\u001b[0m\u001b[0;36m10\u001b[0m\u001b[0;34m)\u001b[0m \u001b[0;31m# задержка между запросами\u001b[0m\u001b[0;34m\u001b[0m\u001b[0m\n\u001b[0m\u001b[1;32m     37\u001b[0m \u001b[0;34m\u001b[0m\u001b[0m\n\u001b[1;32m     38\u001b[0m     \u001b[0msumary_new\u001b[0m \u001b[0;34m=\u001b[0m \u001b[0mbittrex\u001b[0m\u001b[0;34m.\u001b[0m\u001b[0mget_market_summaries\u001b[0m\u001b[0;34m(\u001b[0m\u001b[0;34m)\u001b[0m \u001b[0;31m# второй запрос\u001b[0m\u001b[0;34m\u001b[0m\u001b[0m\n",
      "\u001b[0;31mKeyboardInterrupt\u001b[0m: "
     ]
    }
   ],
   "source": [
    "bittrex = Bittrex(None, None)\n",
    "\n",
    "\n",
    "'''\n",
    "response = bittrex.get_markets()\n",
    "resp_ancii = codecs.getreader('utf-8')(response)\n",
    "for i in resp_ancii.values()[1]:\n",
    "    print (i.get('MarketName'))\n",
    "'''\n",
    "market_names = []\n",
    "\n",
    "sumary = bittrex.get_market_summaries() # первый запрос\n",
    "\n",
    "for i in sumary.get('result'):\n",
    "    market_names.append(i.get('MarketName'))\n",
    "    \n",
    "while 1:\n",
    "    # инициализация переменных\n",
    "\n",
    "    bids = np.array([])\n",
    "    bids_new = np.array([])\n",
    "    asks = np.array([])\n",
    "    asks_new = np.array([])\n",
    "    volums = np.array([])\n",
    "    volums_new = np.array([])\n",
    "\n",
    "    # заполнение памяти от первого запроса\n",
    "\n",
    "    sumary = bittrex.get_market_summaries()\n",
    "    for i in sumary.get('result'):\n",
    "        bids = np.append(bids, i.get('Bid'))\n",
    "        asks = np.append(asks, i.get('Ask'))\n",
    "        volums = np.append(volums, i.get('Volume'))\n",
    "        \n",
    "    time.sleep(10) # задержка между запросами\n",
    "\n",
    "    sumary_new = bittrex.get_market_summaries() # второй запрос\n",
    "\n",
    "    ts = sumary_new.get('result')[60].get('TimeStamp') # метка времени\n",
    "\n",
    "    # заполнение памяти от второго запроса\n",
    "\n",
    "    for i in sumary_new.get('result'):\n",
    "        bids_new = np.append(bids_new, i.get('Bid'))\n",
    "        asks_new = np.append(asks_new, i.get('Ask'))\n",
    "        volums_new = np.append(volums_new, i.get('Volume'))\n",
    "    \n",
    "    # вычисление разницы с предыдущим запросом\n",
    "\n",
    "    delta_bids = bids_new/bids\n",
    "    delta_bids = delta_bids[~np.isnan(delta_bids)]\n",
    "    index_max_bid = np.where(delta_bids == delta_bids.max())\n",
    "    \n",
    "    \n",
    "    delta_asks = asks_new/asks\n",
    "    delta_asks = delta_asks[~np.isnan(delta_asks)]\n",
    "    index_max_ask = np.where(delta_asks == delta_asks.max())\n",
    "    \n",
    "    \n",
    "    delta_vols = volums_new/volums\n",
    "    delta_vols = delta_vols[~np.isnan(delta_vols)]\n",
    "    index_max_vol = np.where(delta_vols == delta_vols.max())\n",
    "    \n",
    "    \n",
    "    # эвристика сигнала\n",
    "\n",
    "    if delta_bids.max() >= 1.1 or delta_bids.max() <= 0.9:\n",
    "        print ('BID ALERT!', market_names[index_max_bid[0][0]])\n",
    "        #file.write('BID ALERT!')\n",
    "        #file.write(market_names[index_max_bid[0][0]])\n",
    "\n",
    "    if delta_asks.max() >= 1.1 or delta_asks.max() <= 0.9:\n",
    "        print ('ASK ALERT!', market_names[index_max_ask[0][0]])\n",
    "        #file.write('ASK ALERT!')\n",
    "        #file.write(market_names[index_max_ask[0][0]])\n",
    "\n",
    "    if delta_vols.max() >= 10:\n",
    "        print ('VOL ALERT!', market_names[index_max_vol[0][0]])\n",
    "        #file.write('VOL ALERT!')\n",
    "        #file.write(market_names[index_max_vol[0][0]])\n",
    "\n",
    "    print (ts)\n",
    "    print ('max delta bid is', delta_bids.max(), market_names[index_max_bid[0][0]])\n",
    "    print ('max delta ask is', delta_asks.max(), market_names[index_max_ask[0][0]])\n",
    "    print ('max delta vol is', delta_vols.max(), market_names[index_max_vol[0][0]])\n",
    "\n",
    "#    file.write(str(ts))\n",
    "#    file.write(b)\n",
    "#    file.write(a)\n",
    "#    file.write(v)\n",
    "#    file.write('################\\n')\n",
    "#                                                                          \n",
    "#b = '\\nmax delta bid is' + str(delta_bids.max()) + str(market_names[index_max_bid[0][0]]) + '\\n'\n",
    "#a = 'max delta ask is' + str(delta_asks.max()) + str(market_names[index_max_ask[0][0]]) + '\\n'\n",
    "#v = 'max delta vol is' + str(delta_vols.max()) + str(market_names[index_max_vol[0][0]]) + '\\n'\n",
    "#\n",
    "#delta = {}\n",
    "#for i,n in enumerate(market_names):\n",
    "#    delta.setdefault(market_names[i], (base_volums_new[i]/base_volums[i], bids_new[i]/bids[i], asks_new[i]/asks[i]))\n",
    "#print (delta)\n"
   ]
  },
  {
   "cell_type": "code",
   "execution_count": null,
   "metadata": {
    "collapsed": true
   },
   "outputs": [],
   "source": [
    "\n"
   ]
  },
  {
   "cell_type": "code",
   "execution_count": null,
   "metadata": {
    "collapsed": true
   },
   "outputs": [],
   "source": []
  }
 ],
 "metadata": {
  "anaconda-cloud": {},
  "kernelspec": {
   "display_name": "Python [default]",
   "language": "python",
   "name": "python3"
  },
  "language_info": {
   "codemirror_mode": {
    "name": "ipython",
    "version": 3
   },
   "file_extension": ".py",
   "mimetype": "text/x-python",
   "name": "python",
   "nbconvert_exporter": "python",
   "pygments_lexer": "ipython3",
   "version": "3.5.2"
  }
 },
 "nbformat": 4,
 "nbformat_minor": 1
}
