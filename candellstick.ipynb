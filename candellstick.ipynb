{
 "cells": [
  {
   "cell_type": "code",
   "execution_count": 1,
   "metadata": {
    "collapsed": false
   },
   "outputs": [],
   "source": [
    "# этот скрипт отрисосывает свечи в реальном времени по истории последних сделок. был необходим по причине того, что на \n",
    "# биттрексе свечки отрисовывались с задержкой около 4 минут, что недопустимо много в условиях высокой волатильности \n",
    "# во время firepump`a, в которые я так любил впрыгивать(к слову, небезуспешно). "
   ]
  },
  {
   "cell_type": "code",
   "execution_count": null,
   "metadata": {
    "collapsed": true
   },
   "outputs": [],
   "source": [
    "from bittrex import Bittrex\n",
    "bittrex = Bittrex(None, None)\n",
    "import matplotlib.pyplot as plt\n",
    "from matplotlib.finance import candlestick_ochl\n",
    "import numpy as np"
   ]
  },
  {
   "cell_type": "code",
   "execution_count": 35,
   "metadata": {
    "collapsed": false
   },
   "outputs": [
    {
     "data": {
      "image/png": "[encoded data removed]",
      "text/plain": [
       "<matplotlib.figure.Figure at 0x7fa93ed04898>"
      ]
     },
     "metadata": {},
     "output_type": "display_data"
    }
   ],
   "source": [
    "h = bittrex.get_market_history('BTC-ETC', 20)   # получить историю сделок по монете\n",
    "\n",
    "ts = []                              # составить список меток времени последних сделок\n",
    "for i in h.get('result'):\n",
    "    ts.append(i.get('TimeStamp'))\n",
    "    \n",
    "a = []\n",
    "for i in h.get('result'):\n",
    "    b = {}\n",
    "    b[i.get('TimeStamp')[11:19]] = i # получить время в формате \"час\\минута\\секунда\"\n",
    "    a.append(b)\n",
    "\n",
    "cand = {}                # составляем словарь вида {время: цена, id, тип сделки, суммарный объем}\n",
    "for i in a:\n",
    "    val = i.popitem()\n",
    "    key = val[0]\n",
    "    values = val[1].get('Price'), val[1].get('Id'), val[1].get('OrderType'), val[1].get('Total')\n",
    "    key = key.replace(':', '')\n",
    "    if key in cand.keys():\n",
    "        cand[key] += tuple(values)\n",
    "    else:\n",
    "        cand[key] = values\n",
    "        \n",
    "cand2 = {}\n",
    "var = cand.keys()\n",
    "#print (var)\n",
    "for k in var:\n",
    "    q = np.array([])\n",
    "    a = np.array([])\n",
    "    for e, i in enumerate(cand.get(k)):    # e - позиция отдельной записи в словаре, е == 0 - цена, е == 1 id. \n",
    "        if e % 4 == 1:\n",
    "            q = np.append(q, cand.get(k)[e]) # id для выбора цены открытия и закрытия\n",
    "        if e % 4 == 0:\n",
    "            a = np.append(a, cand.get(k)[e]) # значения цены для определения макс и мин\n",
    "    cand2[k] = (a), (q)    # cand2 - словарь вида {время: цена, id}\n",
    "    \n",
    "    \n",
    "# составляем окончательный словарь по принципу: взять значение времени с точностью до минуты, найти максимальный и минимальный\n",
    "# id для этого времени, взять цену этих сделок, получится цена открытия и закрытия;\n",
    "# для определения максимальной и минимальной цены в отрезке времени ищем max или min за этот отрезок\n",
    "\n",
    "\n",
    "var = cand2.keys()\n",
    "price = []\n",
    "for v in var:\n",
    "    h_price = cand2.get(v)[0].max() # \n",
    "    l_price = cand2.get(v)[0].min() # высшая и низшая цена за период\n",
    "    \n",
    "    c_id = cand2.get(v)[1].max() # определение ид закрытия\n",
    "    o_id = cand2.get(v)[1].min() # определение ид открытия\n",
    "    \n",
    "    c_index = np.where(cand2.get(v)[1] == c_id) # индекс ид закрытия\n",
    "    o_index = np.where(cand2.get(v)[1] == o_id) # индекс ид открытия\n",
    "    \n",
    "    c_index = c_index[0][0]\n",
    "    o_index = o_index[0][0]\n",
    "    \n",
    "    c_price = cand2.get(v)[0][c_index] # \n",
    "    o_price = cand2.get(v)[0][o_index] # цена закрытия и открытия\n",
    "    \n",
    "    data = int(v), o_price, c_price, h_price, l_price\n",
    "    price.append(data)\n",
    "    # полученный список имеет вид [время(в целых числах, например 18:50:00 будет 185000), цена открытия, цена закрытия, высшая и низшая цена]\n",
    "    \n",
    "fig, ax = plt.subplots()\n",
    "candlestick_ochl(ax, quotes=price, colorup='g', width=10)\n",
    "plt.show()"
   ]
  },
  {
   "cell_type": "code",
   "execution_count": null,
   "metadata": {
    "collapsed": true
   },
   "outputs": [],
   "source": []
  }
 ],
 "metadata": {
  "anaconda-cloud": {},
  "kernelspec": {
   "display_name": "Python [default]",
   "language": "python",
   "name": "python3"
  },
  "language_info": {
   "codemirror_mode": {
    "name": "ipython",
    "version": 3
   },
   "file_extension": ".py",
   "mimetype": "text/x-python",
   "name": "python",
   "nbconvert_exporter": "python",
   "pygments_lexer": "ipython3",
   "version": "3.5.2"
  }
 },
 "nbformat": 4,
 "nbformat_minor": 1
}
