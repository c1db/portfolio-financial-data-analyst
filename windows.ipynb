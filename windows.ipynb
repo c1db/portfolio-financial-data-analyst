{
 "cells": [
  {
   "cell_type": "code",
   "execution_count": 1,
   "metadata": {
    "collapsed": true
   },
   "outputs": [],
   "source": [
    "# ещё один скрипт для скользящего отслеживания рынков, он так же связан с fast_saver.py"
   ]
  },
  {
   "cell_type": "code",
   "execution_count": 1,
   "metadata": {
    "collapsed": true
   },
   "outputs": [],
   "source": [
    "import pandas as pd\n",
    "import numpy as np\n",
    "import os\n",
    "\n",
    "from bittrex import Bittrex\n",
    "bittrex = Bittrex(None, None)"
   ]
  },
  {
   "cell_type": "code",
   "execution_count": 2,
   "metadata": {
    "collapsed": false
   },
   "outputs": [
    {
     "name": "stdout",
     "output_type": "stream",
     "text": [
      "/home/me/soft/other/python-bittrex-master/bittrex/fast_dump\n"
     ]
    }
   ],
   "source": [
    "%cd fast_dump/"
   ]
  },
  {
   "cell_type": "code",
   "execution_count": 3,
   "metadata": {
    "collapsed": false
   },
   "outputs": [],
   "source": [
    "# функция сравнения - сравнивает два снимка рынка, ищет разницу объема или цены в разные промежутки времени\n",
    "# window_size - индекс из списков edge, параметр окна\n",
    "def cmp(recent, early, window_size):\n",
    "    recent = pd.read_csv(recent)     # получить ранний снимок\n",
    "    early  = pd.read_csv(early)      # получить поздний снимок\n",
    "    \n",
    "    edge_v = [1.05, 1.05, 1.12, 1.2] # сигналы по объему: 5% за 5 м, 5% за 15 м, 12% за 30м, 20% за 60м\n",
    "    edge_l = [1.04, 1.05, 1.1, 1.15] # сигналы по цене:   4% за 5 м, 5% за 15 м, 10% за 30м, 15% за 60м\n",
    "    \n",
    "    names = recent['MarketName']                            # получить имя маркета\n",
    "    vol = recent['BaseVolume'] / early['BaseVolume']        # получить изменения объема\n",
    "    last = recent['Last'] / early['Last']                   # получить изменение цены\n",
    "    vol = np.array(vol)\n",
    "    last = np.array(last)\n",
    "    vol_ind = np.where(vol >= edge_v[window_size])          # поиск маркетов, подходящих под требование\n",
    "    last_ind = np.where(last >= edge_l[window_size])        #\n",
    "    \n",
    "    indx = last_ind + vol_ind\n",
    "\n",
    "    if np.shape(indx) == (2, 0): # отлов ошибок\n",
    "        return -1\n",
    "    \n",
    "    names_last = []\n",
    "    names_vol =  []\n",
    "    \n",
    "    for i in last_ind:\n",
    "        names_last.append(names[i])\n",
    "        \n",
    "    for i in vol_ind:\n",
    "        names_vol.append(names[i])\n",
    "        \n",
    "    return (names_last, names_vol)"
   ]
  },
  {
   "cell_type": "code",
   "execution_count": 4,
   "metadata": {
    "collapsed": false
   },
   "outputs": [],
   "source": [
    "def mov_window(ld, time):   # time - размер окна, и, соответственно, пороговые значения для срабатывания\n",
    "\n",
    "    result = cmp (ld[-1], ld[-5-1], time)\n",
    "    if type(result) != int:\n",
    "        print (result)\n"
   ]
  },
  {
   "cell_type": "code",
   "execution_count": 7,
   "metadata": {
    "collapsed": false
   },
   "outputs": [
    {
     "name": "stdout",
     "output_type": "stream",
     "text": [
      "([29      BTC-BYC\n",
      "68      BTC-FTC\n",
      "121     BTC-PDC\n",
      "230    ETH-PTOY\n",
      "Name: MarketName, dtype: object], [26    BTC-BTCD\n",
      "29     BTC-BYC\n",
      "Name: MarketName, dtype: object])\n"
     ]
    }
   ],
   "source": [
    "ld = os.listdir()\n",
    "ld.sort()\n",
    "del ld[-5:]\n",
    "mov_window(ld, 1)"
   ]
  },
  {
   "cell_type": "code",
   "execution_count": null,
   "metadata": {
    "collapsed": true
   },
   "outputs": [],
   "source": []
  }
 ],
 "metadata": {
  "anaconda-cloud": {},
  "kernelspec": {
   "display_name": "Python [default]",
   "language": "python",
   "name": "python3"
  },
  "language_info": {
   "codemirror_mode": {
    "name": "ipython",
    "version": 3
   },
   "file_extension": ".py",
   "mimetype": "text/x-python",
   "name": "python",
   "nbconvert_exporter": "python",
   "pygments_lexer": "ipython3",
   "version": "3.5.2"
  }
 },
 "nbformat": 4,
 "nbformat_minor": 2
}
